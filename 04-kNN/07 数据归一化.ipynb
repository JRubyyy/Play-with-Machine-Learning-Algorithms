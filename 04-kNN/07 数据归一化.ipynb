{
 "cells": [
  {
   "cell_type": "markdown",
   "metadata": {},
   "source": [
    "# 数据归一化处理"
   ]
  },
  {
   "cell_type": "markdown",
   "metadata": {},
   "source": [
    "将所有数据映射到同一尺度中。 <br><br>\n",
    "最值归一化（normalization）：把所有数据映射到0-1之间。 <br>\n",
    "Xscale = (X - Xmin) / (Xmax - Xmin) <br>\n",
    "适用于分布有明显边界的情况；受outlier影响较大。 <br><br>\n",
    "一种改进： <br>\n",
    "均值方差归一化（standardization）：把所有数据归一到均值为0方差为1的分布中。 <br>\n",
    "适用于数据分布无明显便捷的情况；有可能存在极端数据值。 <br>\n",
    "Xscale = (X - Xmean) / S"
   ]
  },
  {
   "cell_type": "code",
   "execution_count": 1,
   "metadata": {},
   "outputs": [],
   "source": [
    "import numpy as np\n",
    "import matplotlib.pyplot as plt"
   ]
  },
  {
   "cell_type": "markdown",
   "metadata": {},
   "source": [
    "### 最值归一化 Normalization"
   ]
  },
  {
   "cell_type": "markdown",
   "metadata": {},
   "source": [
    "一维数组"
   ]
  },
  {
   "cell_type": "code",
   "execution_count": 5,
   "metadata": {},
   "outputs": [],
   "source": [
    "x = np.random.randint(0, 100, size=100)"
   ]
  },
  {
   "cell_type": "code",
   "execution_count": 6,
   "metadata": {},
   "outputs": [
    {
     "data": {
      "text/plain": [
       "array([45, 73, 79, 85, 24, 65, 52, 48, 34, 15, 44, 63, 45, 64, 84, 11,  5,\n",
       "       73, 59,  1, 46, 88, 18, 57, 63,  5, 26,  9, 19, 91,  1, 55, 28, 90,\n",
       "       66, 56, 86, 54, 17, 21, 88, 75, 58, 38, 28, 71, 74, 16, 50, 63, 42,\n",
       "       70, 45, 45, 81, 95, 62, 33, 32,  3,  1, 10, 57, 71, 91, 56, 26,  8,\n",
       "       21, 72, 90, 79, 97, 94, 64, 61, 70, 40,  7, 51, 62, 51, 41, 44, 24,\n",
       "       62, 60, 78, 45, 43, 88, 51, 61, 40, 18, 66, 70, 93, 73,  4])"
      ]
     },
     "execution_count": 6,
     "metadata": {},
     "output_type": "execute_result"
    }
   ],
   "source": [
    "x"
   ]
  },
  {
   "cell_type": "markdown",
   "metadata": {},
   "source": [
    "经过处理，x中的每一个值都在0-1之间了。"
   ]
  },
  {
   "cell_type": "code",
   "execution_count": 7,
   "metadata": {},
   "outputs": [
    {
     "data": {
      "text/plain": [
       "array([0.45833333, 0.75      , 0.8125    , 0.875     , 0.23958333,\n",
       "       0.66666667, 0.53125   , 0.48958333, 0.34375   , 0.14583333,\n",
       "       0.44791667, 0.64583333, 0.45833333, 0.65625   , 0.86458333,\n",
       "       0.10416667, 0.04166667, 0.75      , 0.60416667, 0.        ,\n",
       "       0.46875   , 0.90625   , 0.17708333, 0.58333333, 0.64583333,\n",
       "       0.04166667, 0.26041667, 0.08333333, 0.1875    , 0.9375    ,\n",
       "       0.        , 0.5625    , 0.28125   , 0.92708333, 0.67708333,\n",
       "       0.57291667, 0.88541667, 0.55208333, 0.16666667, 0.20833333,\n",
       "       0.90625   , 0.77083333, 0.59375   , 0.38541667, 0.28125   ,\n",
       "       0.72916667, 0.76041667, 0.15625   , 0.51041667, 0.64583333,\n",
       "       0.42708333, 0.71875   , 0.45833333, 0.45833333, 0.83333333,\n",
       "       0.97916667, 0.63541667, 0.33333333, 0.32291667, 0.02083333,\n",
       "       0.        , 0.09375   , 0.58333333, 0.72916667, 0.9375    ,\n",
       "       0.57291667, 0.26041667, 0.07291667, 0.20833333, 0.73958333,\n",
       "       0.92708333, 0.8125    , 1.        , 0.96875   , 0.65625   ,\n",
       "       0.625     , 0.71875   , 0.40625   , 0.0625    , 0.52083333,\n",
       "       0.63541667, 0.52083333, 0.41666667, 0.44791667, 0.23958333,\n",
       "       0.63541667, 0.61458333, 0.80208333, 0.45833333, 0.4375    ,\n",
       "       0.90625   , 0.52083333, 0.625     , 0.40625   , 0.17708333,\n",
       "       0.67708333, 0.71875   , 0.95833333, 0.75      , 0.03125   ])"
      ]
     },
     "execution_count": 7,
     "metadata": {},
     "output_type": "execute_result"
    }
   ],
   "source": [
    "(x - np.min(x)) / (np.max(x) - np.min(x))"
   ]
  },
  {
   "cell_type": "markdown",
   "metadata": {},
   "source": [
    "X有2个特征，每个特征都是一个在0-100之间的随机数，一共有50个样本。"
   ]
  },
  {
   "cell_type": "markdown",
   "metadata": {},
   "source": [
    "二维矩阵"
   ]
  },
  {
   "cell_type": "code",
   "execution_count": 8,
   "metadata": {},
   "outputs": [],
   "source": [
    "X = np.random.randint(0, 100, (50, 2))"
   ]
  },
  {
   "cell_type": "code",
   "execution_count": 9,
   "metadata": {},
   "outputs": [
    {
     "data": {
      "text/plain": [
       "array([[92, 43],\n",
       "       [20, 90],\n",
       "       [95, 94],\n",
       "       [61, 27],\n",
       "       [90, 49],\n",
       "       [24, 75],\n",
       "       [77, 70],\n",
       "       [78, 70],\n",
       "       [20, 23],\n",
       "       [ 3, 33]])"
      ]
     },
     "execution_count": 9,
     "metadata": {},
     "output_type": "execute_result"
    }
   ],
   "source": [
    "X[:10,:]"
   ]
  },
  {
   "cell_type": "code",
   "execution_count": 10,
   "metadata": {},
   "outputs": [],
   "source": [
    "X = np.array(X, dtype=float) # 将X强转为浮点数"
   ]
  },
  {
   "cell_type": "code",
   "execution_count": 11,
   "metadata": {},
   "outputs": [
    {
     "data": {
      "text/plain": [
       "array([[92., 43.],\n",
       "       [20., 90.],\n",
       "       [95., 94.],\n",
       "       [61., 27.],\n",
       "       [90., 49.],\n",
       "       [24., 75.],\n",
       "       [77., 70.],\n",
       "       [78., 70.],\n",
       "       [20., 23.],\n",
       "       [ 3., 33.]])"
      ]
     },
     "execution_count": 11,
     "metadata": {},
     "output_type": "execute_result"
    }
   ],
   "source": [
    "X[:10,:]"
   ]
  },
  {
   "cell_type": "code",
   "execution_count": 12,
   "metadata": {},
   "outputs": [],
   "source": [
    "X[:,0] = (X[:,0] - np.min(X[:,0])) / (np.max(X[:,0]) - np.min(X[:,0]))"
   ]
  },
  {
   "cell_type": "code",
   "execution_count": 13,
   "metadata": {},
   "outputs": [],
   "source": [
    "X[:,1] = (X[:,1] - np.min(X[:,1])) / (np.max(X[:,1]) - np.min(X[:,1]))"
   ]
  },
  {
   "cell_type": "code",
   "execution_count": 14,
   "metadata": {},
   "outputs": [
    {
     "data": {
      "text/plain": [
       "array([[0.93814433, 0.43877551],\n",
       "       [0.19587629, 0.91836735],\n",
       "       [0.96907216, 0.95918367],\n",
       "       [0.6185567 , 0.2755102 ],\n",
       "       [0.91752577, 0.5       ],\n",
       "       [0.2371134 , 0.76530612],\n",
       "       [0.78350515, 0.71428571],\n",
       "       [0.79381443, 0.71428571],\n",
       "       [0.19587629, 0.23469388],\n",
       "       [0.02061856, 0.33673469]])"
      ]
     },
     "execution_count": 14,
     "metadata": {},
     "output_type": "execute_result"
    }
   ],
   "source": [
    "X[:10,:]"
   ]
  },
  {
   "cell_type": "code",
   "execution_count": 16,
   "metadata": {},
   "outputs": [
    {
     "data": {
      "text/plain": [
       "<matplotlib.collections.PathCollection at 0x6ca11d0>"
      ]
     },
     "execution_count": 16,
     "metadata": {},
     "output_type": "execute_result"
    },
    {
     "data": {
      "image/png": "[encoded data removed]",
      "text/plain": [
       "<Figure size 432x288 with 1 Axes>"
      ]
     },
     "metadata": {},
     "output_type": "display_data"
    }
   ],
   "source": [
    "plt.scatter(X[:,0], X[:,1])"
   ]
  },
  {
   "cell_type": "code",
   "execution_count": 17,
   "metadata": {},
   "outputs": [
    {
     "data": {
      "text/plain": [
       "0.5577319587628867"
      ]
     },
     "execution_count": 17,
     "metadata": {},
     "output_type": "execute_result"
    }
   ],
   "source": [
    "np.mean(X[:,0])"
   ]
  },
  {
   "cell_type": "code",
   "execution_count": 18,
   "metadata": {},
   "outputs": [
    {
     "data": {
      "text/plain": [
       "0.30303141253979693"
      ]
     },
     "execution_count": 18,
     "metadata": {},
     "output_type": "execute_result"
    }
   ],
   "source": [
    "np.std(X[:,0])"
   ]
  },
  {
   "cell_type": "code",
   "execution_count": 19,
   "metadata": {},
   "outputs": [
    {
     "data": {
      "text/plain": [
       "0.47346938775510206"
      ]
     },
     "execution_count": 19,
     "metadata": {},
     "output_type": "execute_result"
    }
   ],
   "source": [
    "np.mean(X[:,1])"
   ]
  },
  {
   "cell_type": "code",
   "execution_count": 20,
   "metadata": {},
   "outputs": [
    {
     "data": {
      "text/plain": [
       "0.2915297371998325"
      ]
     },
     "execution_count": 20,
     "metadata": {},
     "output_type": "execute_result"
    }
   ],
   "source": [
    "np.std(X[:,1])"
   ]
  },
  {
   "cell_type": "markdown",
   "metadata": {},
   "source": [
    "### 均值方差归一化 Standardization"
   ]
  },
  {
   "cell_type": "code",
   "execution_count": 21,
   "metadata": {},
   "outputs": [],
   "source": [
    "X2 = np.random.randint(0, 100, (50, 2))"
   ]
  },
  {
   "cell_type": "code",
   "execution_count": 22,
   "metadata": {},
   "outputs": [],
   "source": [
    "X2 = np.array(X2, dtype=float)"
   ]
  },
  {
   "cell_type": "code",
   "execution_count": 24,
   "metadata": {},
   "outputs": [],
   "source": [
    "for i in range(0, 2):\n",
    "    X2[:,i] = (X2[:,i] - np.mean(X2[:,i])) / np.std(X2[:,i])"
   ]
  },
  {
   "cell_type": "markdown",
   "metadata": {},
   "source": [
    "由图像可知，我们并不能保证，取值在0-1之间。 <br>\n",
    "使用均值方差归一化方法本质是将所有数据的均值，也就是中心值，放在了0的位置，而它的分布的幅度，方差放在了1这样的位置，即使数据中有outlier、有极端值，数据整体依然满足均值为0，方差为1，也就是它不会形成一个有偏的数据，这就是对于最值归一化的方法来说，均值方差归一化它的优点。"
   ]
  },
  {
   "cell_type": "code",
   "execution_count": 25,
   "metadata": {},
   "outputs": [
    {
     "data": {
      "text/plain": [
       "<matplotlib.collections.PathCollection at 0x808a048>"
      ]
     },
     "execution_count": 25,
     "metadata": {},
     "output_type": "execute_result"
    },
    {
     "data": {
      "image/png": "[encoded data removed]",
      "text/plain": [
       "<Figure size 432x288 with 1 Axes>"
      ]
     },
     "metadata": {},
     "output_type": "display_data"
    }
   ],
   "source": [
    "plt.scatter(X2[:,0], X2[:,1])"
   ]
  },
  {
   "cell_type": "code",
   "execution_count": 26,
   "metadata": {},
   "outputs": [
    {
     "data": {
      "text/plain": [
       "-6.078471059822732e-17"
      ]
     },
     "execution_count": 26,
     "metadata": {},
     "output_type": "execute_result"
    }
   ],
   "source": [
    "np.mean(X2[:,0])"
   ]
  },
  {
   "cell_type": "code",
   "execution_count": 27,
   "metadata": {},
   "outputs": [
    {
     "data": {
      "text/plain": [
       "1.0"
      ]
     },
     "execution_count": 27,
     "metadata": {},
     "output_type": "execute_result"
    }
   ],
   "source": [
    "np.std(X2[:,0])"
   ]
  },
  {
   "cell_type": "code",
   "execution_count": 28,
   "metadata": {},
   "outputs": [
    {
     "data": {
      "text/plain": [
       "-3.9968028886505634e-17"
      ]
     },
     "execution_count": 28,
     "metadata": {},
     "output_type": "execute_result"
    }
   ],
   "source": [
    "np.mean(X2[:,1])"
   ]
  },
  {
   "cell_type": "code",
   "execution_count": 29,
   "metadata": {},
   "outputs": [
    {
     "data": {
      "text/plain": [
       "0.9999999999999999"
      ]
     },
     "execution_count": 29,
     "metadata": {},
     "output_type": "execute_result"
    }
   ],
   "source": [
    "np.std(X2[:,1])"
   ]
  }
 ],
 "metadata": {
  "kernelspec": {
   "display_name": "Python 3",
   "language": "python",
   "name": "python3"
  },
  "language_info": {
   "codemirror_mode": {
    "name": "ipython",
    "version": 3
   },
   "file_extension": ".py",
   "mimetype": "text/x-python",
   "name": "python",
   "nbconvert_exporter": "python",
   "pygments_lexer": "ipython3",
   "version": "3.6.5"
  }
 },
 "nbformat": 4,
 "nbformat_minor": 2
}
